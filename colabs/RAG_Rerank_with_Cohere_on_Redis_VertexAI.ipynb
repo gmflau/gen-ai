{
  "nbformat": 4,
  "nbformat_minor": 0,
  "metadata": {
    "colab": {
      "provenance": [],
      "authorship_tag": "ABX9TyOIfA4RnDApBzWnSYyyhWBM",
      "include_colab_link": true
    },
    "kernelspec": {
      "name": "python3",
      "display_name": "Python 3"
    },
    "language_info": {
      "name": "python"
    }
  },
  "cells": [
    {
      "cell_type": "markdown",
      "metadata": {
        "id": "view-in-github",
        "colab_type": "text"
      },
      "source": [
        "<a href=\"https://colab.research.google.com/github/gmflau/gen-ai/blob/main/colabs/RAG_Rerank_with_Cohere_on_Redis_VertexAI.ipynb\" target=\"_parent\"><img src=\"https://colab.research.google.com/assets/colab-badge.svg\" alt=\"Open In Colab\"/></a>"
      ]
    },
    {
      "cell_type": "markdown",
      "source": [
        "### Install necessary Python packages for this Colab notebook"
      ],
      "metadata": {
        "id": "e8eqNYa-LZsX"
      }
    },
    {
      "cell_type": "code",
      "execution_count": 1,
      "metadata": {
        "colab": {
          "base_uri": "https://localhost:8080/"
        },
        "id": "sFX3uWHuwQUZ",
        "outputId": "08ceb817-b214-482c-8c46-5681c79fc4c7"
      },
      "outputs": [
        {
          "output_type": "stream",
          "name": "stdout",
          "text": [
            "\u001b[2K     \u001b[90m━━━━━━━━━━━━━━━━━━━━━━━━━━━━━━━━━━━━━━━━\u001b[0m \u001b[32m52.2/52.2 kB\u001b[0m \u001b[31m1.7 MB/s\u001b[0m eta \u001b[36m0:00:00\u001b[0m\n",
            "\u001b[2K     \u001b[90m━━━━━━━━━━━━━━━━━━━━━━━━━━━━━━━━━━━━━━━━\u001b[0m \u001b[32m3.1/3.1 MB\u001b[0m \u001b[31m10.0 MB/s\u001b[0m eta \u001b[36m0:00:00\u001b[0m\n",
            "\u001b[?25h"
          ]
        }
      ],
      "source": [
        "%pip install --upgrade --quiet cohere"
      ]
    },
    {
      "cell_type": "code",
      "source": [
        "%pip install --upgrade --quiet langchain langchain_community langchain-google-vertexai wget redis"
      ],
      "metadata": {
        "colab": {
          "base_uri": "https://localhost:8080/"
        },
        "id": "TD-7HkBEzEaB",
        "outputId": "a7d2b48e-3397-4eef-b004-b1e12983108c"
      },
      "execution_count": 2,
      "outputs": [
        {
          "output_type": "stream",
          "name": "stdout",
          "text": [
            "\u001b[2K     \u001b[90m━━━━━━━━━━━━━━━━━━━━━━━━━━━━━━━━━━━━━━━━\u001b[0m \u001b[32m816.1/816.1 kB\u001b[0m \u001b[31m9.4 MB/s\u001b[0m eta \u001b[36m0:00:00\u001b[0m\n",
            "\u001b[2K     \u001b[90m━━━━━━━━━━━━━━━━━━━━━━━━━━━━━━━━━━━━━━━━\u001b[0m \u001b[32m1.7/1.7 MB\u001b[0m \u001b[31m16.9 MB/s\u001b[0m eta \u001b[36m0:00:00\u001b[0m\n",
            "\u001b[?25h  Preparing metadata (setup.py) ... \u001b[?25l\u001b[?25hdone\n",
            "\u001b[2K     \u001b[90m━━━━━━━━━━━━━━━━━━━━━━━━━━━━━━━━━━━━━━━━\u001b[0m \u001b[32m250.3/250.3 kB\u001b[0m \u001b[31m22.0 MB/s\u001b[0m eta \u001b[36m0:00:00\u001b[0m\n",
            "\u001b[2K     \u001b[90m━━━━━━━━━━━━━━━━━━━━━━━━━━━━━━━━━━━━━━━━\u001b[0m \u001b[32m242.1/242.1 kB\u001b[0m \u001b[31m12.5 MB/s\u001b[0m eta \u001b[36m0:00:00\u001b[0m\n",
            "\u001b[2K     \u001b[90m━━━━━━━━━━━━━━━━━━━━━━━━━━━━━━━━━━━━━━━━\u001b[0m \u001b[32m61.0/61.0 kB\u001b[0m \u001b[31m6.7 MB/s\u001b[0m eta \u001b[36m0:00:00\u001b[0m\n",
            "\u001b[2K     \u001b[90m━━━━━━━━━━━━━━━━━━━━━━━━━━━━━━━━━━━━━━━━\u001b[0m \u001b[32m121.6/121.6 kB\u001b[0m \u001b[31m9.4 MB/s\u001b[0m eta \u001b[36m0:00:00\u001b[0m\n",
            "\u001b[2K     \u001b[90m━━━━━━━━━━━━━━━━━━━━━━━━━━━━━━━━━━━━━━━━\u001b[0m \u001b[32m62.2/62.2 kB\u001b[0m \u001b[31m6.7 MB/s\u001b[0m eta \u001b[36m0:00:00\u001b[0m\n",
            "\u001b[2K     \u001b[90m━━━━━━━━━━━━━━━━━━━━━━━━━━━━━━━━━━━━━━━━\u001b[0m \u001b[32m49.4/49.4 kB\u001b[0m \u001b[31m4.5 MB/s\u001b[0m eta \u001b[36m0:00:00\u001b[0m\n",
            "\u001b[?25h  Building wheel for wget (setup.py) ... \u001b[?25l\u001b[?25hdone\n"
          ]
        }
      ]
    },
    {
      "cell_type": "markdown",
      "source": [
        "### Import Cohere API Key"
      ],
      "metadata": {
        "id": "kQeA-gTZRIM1"
      }
    },
    {
      "cell_type": "code",
      "source": [
        "import os\n",
        "from google.colab import userdata\n",
        "\n",
        "COHERE_API_KEY = userdata.get('COHERE_API_KEY')\n",
        "os.environ[\"COHERE_API_KEY\"] = COHERE_API_KEY"
      ],
      "metadata": {
        "id": "tVgjsaRixw8U"
      },
      "execution_count": 3,
      "outputs": []
    },
    {
      "cell_type": "markdown",
      "source": [
        "### Authenticate notebook to Google Cloud\n",
        "\n",
        "The code below will ask you to Allow this notebook to access your Google credentials. Agree, select the email address associated with your GCP account and click `Allow`.\n",
        "\n",
        "You might also need to enable VertexAI API in your Google Gloud account and change project name and the region.\n",
        "\n"
      ],
      "metadata": {
        "id": "ou176sYJMzMP"
      }
    },
    {
      "cell_type": "code",
      "source": [
        "#Connect notebook to your google cloud account\n",
        "from google.colab import auth as google_auth\n",
        "from google.cloud import aiplatform\n",
        "#replace values below with your own Project and GCP Region\n",
        "PROJECT_ID = \"redis-business-development\"\n",
        "REGION = \"us-central1\"\n",
        "google_auth.authenticate_user()\n",
        "aiplatform.init(project=PROJECT_ID, location=REGION)"
      ],
      "metadata": {
        "id": "1_8WgAkiM05j"
      },
      "execution_count": 4,
      "outputs": []
    },
    {
      "cell_type": "markdown",
      "source": [
        "### Initialize embeddings engine from Vertex AI"
      ],
      "metadata": {
        "id": "P4Vb7hgjNLZV"
      }
    },
    {
      "cell_type": "code",
      "source": [
        "from langchain_google_vertexai import VertexAIEmbeddings\n",
        "\n",
        "embeddings = VertexAIEmbeddings(model_name='textembedding-gecko@001')"
      ],
      "metadata": {
        "id": "phR151JbM-Zh"
      },
      "execution_count": 5,
      "outputs": []
    },
    {
      "cell_type": "code",
      "source": [
        "# Helper function for printing docs\n",
        "\n",
        "def pretty_print_docs(docs):\n",
        "    print(\n",
        "        f\"\\n{'-' * 100}\\n\".join(\n",
        "            [f\"Document {i+1}:\\n\\n\" + d.page_content for i, d in enumerate(docs)]\n",
        "        )\n",
        "    )"
      ],
      "metadata": {
        "id": "7s2k9v8AyJU5"
      },
      "execution_count": 6,
      "outputs": []
    },
    {
      "cell_type": "markdown",
      "source": [
        "### Download the state of the union text for document retrieval based on a query"
      ],
      "metadata": {
        "id": "y4-6gzcKRXDd"
      }
    },
    {
      "cell_type": "code",
      "source": [
        "import wget\n",
        "\n",
        "wget.download(\"https://raw.githubusercontent.com/hwchase17/chat-your-data/master/state_of_the_union.txt\")"
      ],
      "metadata": {
        "colab": {
          "base_uri": "https://localhost:8080/",
          "height": 35
        },
        "id": "zmGlb3qEzZB7",
        "outputId": "4caa09b1-29b1-402f-850e-d66914d6aca7"
      },
      "execution_count": 7,
      "outputs": [
        {
          "output_type": "execute_result",
          "data": {
            "text/plain": [
              "'state_of_the_union.txt'"
            ],
            "application/vnd.google.colaboratory.intrinsic+json": {
              "type": "string"
            }
          },
          "metadata": {},
          "execution_count": 7
        }
      ]
    },
    {
      "cell_type": "markdown",
      "source": [
        "### Install Redis Stack"
      ],
      "metadata": {
        "id": "eo-7cFuVSbm3"
      }
    },
    {
      "cell_type": "code",
      "source": [
        "%%sh\n",
        "curl -fsSL https://packages.redis.io/gpg | sudo gpg --dearmor -o /usr/share/keyrings/redis-archive-keyring.gpg\n",
        "echo \"deb [signed-by=/usr/share/keyrings/redis-archive-keyring.gpg] https://packages.redis.io/deb $(lsb_release -cs) main\" | sudo tee /etc/apt/sources.list.d/redis.list\n",
        "sudo apt-get update  > /dev/null 2>&1\n",
        "sudo apt-get install redis-stack-server  > /dev/null 2>&1\n",
        "redis-stack-server --daemonize yes"
      ],
      "metadata": {
        "colab": {
          "base_uri": "https://localhost:8080/"
        },
        "id": "fwitj1v6q8KA",
        "outputId": "8ac6e102-3d4b-48ad-e64c-6788c9f348f4"
      },
      "execution_count": 8,
      "outputs": [
        {
          "output_type": "stream",
          "name": "stdout",
          "text": [
            "deb [signed-by=/usr/share/keyrings/redis-archive-keyring.gpg] https://packages.redis.io/deb jammy main\n",
            "Starting redis-stack-server, database path /var/lib/redis-stack\n"
          ]
        }
      ]
    },
    {
      "cell_type": "code",
      "source": [
        "import redis\n",
        "import os\n",
        "\n",
        "REDIS_HOST = os.getenv(\"REDIS_HOST\", \"localhost\")\n",
        "REDIS_PORT = os.getenv(\"REDIS_PORT\", \"6379\")\n",
        "REDIS_PASSWORD = os.getenv(\"REDIS_PASSWORD\", \"\")\n",
        "#Replace values above with your own if using Redis Cloud instance\n",
        "#REDIS_HOST=\"redis-10996.c279.us-central1-1.gce.cloud.redislabs.com\"\n",
        "#REDIS_PORT=10996\n",
        "#REDIS_PASSWORD=\"xnurcS28JREs9S8HHemx2cKc1jLFi3ua\"\n",
        "\n",
        "#shortcut for redis-cli $REDIS_CONN command\n",
        "if REDIS_PASSWORD!=\"\":\n",
        "  os.environ[\"REDIS_CONN\"]=f\"-h {REDIS_HOST} -p {REDIS_PORT} -a {REDIS_PASSWORD} --no-auth-warning\"\n",
        "else:\n",
        "  os.environ[\"REDIS_CONN\"]=f\"-h {REDIS_HOST} -p {REDIS_PORT}\"\n",
        "\n",
        "REDIS_URL = f\"redis://:{REDIS_PASSWORD}@{REDIS_HOST}:{REDIS_PORT}\"\n",
        "INDEX_NAME = f\"qna:idx\""
      ],
      "metadata": {
        "id": "19b8ZB3Co7bN"
      },
      "execution_count": 9,
      "outputs": []
    },
    {
      "cell_type": "code",
      "source": [
        "#Set up the base vector store retrieve\n",
        "\n",
        "from langchain.text_splitter import RecursiveCharacterTextSplitter\n",
        "from langchain_community.document_loaders import TextLoader\n",
        "from langchain.vectorstores.redis import Redis\n",
        "\n",
        "documents = TextLoader(\"./state_of_the_union.txt\").load()\n",
        "text_splitter = RecursiveCharacterTextSplitter(chunk_size=500, chunk_overlap=100)\n",
        "texts = text_splitter.split_documents(documents)\n",
        "\n",
        "retriever = Redis.from_documents(documents=texts,\n",
        "              embedding=embeddings,\n",
        "              index_name=INDEX_NAME,\n",
        "              redis_url=REDIS_URL).as_retriever(search_kwargs={\"k\": 20}\n",
        ")\n",
        "\n",
        "query = \"What did the president say about Ketanji Brown Jackson\"\n",
        "docs = retriever.get_relevant_documents(query)\n",
        "pretty_print_docs(docs)"
      ],
      "metadata": {
        "colab": {
          "base_uri": "https://localhost:8080/"
        },
        "id": "UaE2-HRNylVz",
        "outputId": "fb8135b5-409b-4fc8-baaa-99da1d0de1bb"
      },
      "execution_count": 10,
      "outputs": [
        {
          "output_type": "stream",
          "name": "stdout",
          "text": [
            "Document 1:\n",
            "\n",
            "One of the most serious constitutional responsibilities a President has is nominating someone to serve on the United States Supreme Court. \n",
            "\n",
            "And I did that 4 days ago, when I nominated Circuit Court of Appeals Judge Ketanji Brown Jackson. One of our nation’s top legal minds, who will continue Justice Breyer’s legacy of excellence.\n",
            "----------------------------------------------------------------------------------------------------\n",
            "Document 2:\n",
            "\n",
            "Headaches. Numbness. Dizziness. \n",
            "\n",
            "A cancer that would put them in a flag-draped coffin. \n",
            "\n",
            "I know. \n",
            "\n",
            "One of those soldiers was my son Major Beau Biden. \n",
            "\n",
            "We don’t know for sure if a burn pit was the cause of his brain cancer, or the diseases of so many of our troops. \n",
            "\n",
            "But I’m committed to finding out everything we can. \n",
            "\n",
            "Committed to military families like Danielle Robinson from Ohio. \n",
            "\n",
            "The widow of Sergeant First Class Heath Robinson.\n",
            "----------------------------------------------------------------------------------------------------\n",
            "Document 3:\n",
            "\n",
            "And tonight, I’m announcing that the Justice Department will name a chief prosecutor for pandemic fraud. \n",
            "\n",
            "By the end of this year, the deficit will be down to less than half what it was before I took office.  \n",
            "\n",
            "The only president ever to cut the deficit by more than one trillion dollars in a single year. \n",
            "\n",
            "Lowering your costs also means demanding more competition. \n",
            "\n",
            "I’m a capitalist, but capitalism without competition isn’t capitalism. \n",
            "\n",
            "It’s exploitation—and it drives up prices.\n",
            "----------------------------------------------------------------------------------------------------\n",
            "Document 4:\n",
            "\n",
            "The widow of Sergeant First Class Heath Robinson.  \n",
            "\n",
            "He was born a soldier. Army National Guard. Combat medic in Kosovo and Iraq. \n",
            "\n",
            "Stationed near Baghdad, just yards from burn pits the size of football fields. \n",
            "\n",
            "Heath’s widow Danielle is here with us tonight. They loved going to Ohio State football games. He loved building Legos with their daughter. \n",
            "\n",
            "But cancer from prolonged exposure to burn pits ravaged Heath’s lungs and body. \n",
            "\n",
            "Danielle says Heath was a fighter to the very end.\n",
            "----------------------------------------------------------------------------------------------------\n",
            "Document 5:\n",
            "\n",
            "But that trickle-down theory led to weaker economic growth, lower wages, bigger deficits, and the widest gap between those at the top and everyone else in nearly a century. \n",
            "\n",
            "Vice President Harris and I ran for office with a new economic vision for America. \n",
            "\n",
            "Invest in America. Educate Americans. Grow the workforce. Build the economy from the bottom up  \n",
            "and the middle out, not from the top down.\n",
            "----------------------------------------------------------------------------------------------------\n",
            "Document 6:\n",
            "\n",
            "To all Americans, I will be honest with you, as I’ve always promised. A Russian dictator, invading a foreign country, has costs around the world. \n",
            "\n",
            "And I’m taking robust action to make sure the pain of our sanctions  is targeted at Russia’s economy. And I will use every tool at our disposal to protect American businesses and consumers. \n",
            "\n",
            "Tonight, I can announce that the United States has worked with 30 other countries to release 60 Million barrels of oil from reserves around the world.\n",
            "----------------------------------------------------------------------------------------------------\n",
            "Document 7:\n",
            "\n",
            "So that’s my plan. It will grow the economy and lower costs for families. \n",
            "\n",
            "So what are we waiting for? Let’s get this done. And while you’re at it, confirm my nominees to the Federal Reserve, which plays a critical role in fighting inflation.  \n",
            "\n",
            "My plan will not only lower costs to give families a fair shot, it will lower the deficit.\n",
            "----------------------------------------------------------------------------------------------------\n",
            "Document 8:\n",
            "\n",
            "As I said last year, especially to our younger transgender Americans, I will always have your back as your President, so you can be yourself and reach your God-given potential. \n",
            "\n",
            "While it often appears that we never agree, that isn’t true. I signed 80 bipartisan bills into law last year. From preventing government shutdowns to protecting Asian-Americans from still-too-common hate crimes to reforming military justice.\n",
            "----------------------------------------------------------------------------------------------------\n",
            "Document 9:\n",
            "\n",
            "My plan to fight inflation will lower your costs and lower the deficit. \n",
            "\n",
            "17 Nobel laureates in economics say my plan will ease long-term inflationary pressures. Top business leaders and most Americans support my plan. And here’s the plan: \n",
            "\n",
            "First – cut the cost of prescription drugs. Just look at insulin. One in ten Americans has diabetes. In Virginia, I met a 13-year-old boy named Joshua Davis.\n",
            "----------------------------------------------------------------------------------------------------\n",
            "Document 10:\n",
            "\n",
            "He met the Ukrainian people. \n",
            "\n",
            "From President Zelenskyy to every Ukrainian, their fearlessness, their courage, their determination, inspires the world. \n",
            "\n",
            "Groups of citizens blocking tanks with their bodies. Everyone from students to retirees teachers turned soldiers defending their homeland. \n",
            "\n",
            "In this struggle as President Zelenskyy said in his speech to the European Parliament “Light will win over darkness.” The Ukrainian Ambassador to the United States is here tonight.\n",
            "----------------------------------------------------------------------------------------------------\n",
            "Document 11:\n",
            "\n",
            "I understand. \n",
            "\n",
            "I remember when my Dad had to leave our home in Scranton, Pennsylvania to find work. I grew up in a family where if the price of food went up, you felt it. \n",
            "\n",
            "That’s why one of the first things I did as President was fight to pass the American Rescue Plan.  \n",
            "\n",
            "Because people were hurting. We needed to act, and we did. \n",
            "\n",
            "Few pieces of legislation have done more in a critical moment in our history to lift us out of crisis.\n",
            "----------------------------------------------------------------------------------------------------\n",
            "Document 12:\n",
            "\n",
            "I spoke with their families and told them that we are forever in debt for their sacrifice, and we will carry on their mission to restore the trust and safety every community deserves. \n",
            "\n",
            "I’ve worked on these issues a long time. \n",
            "\n",
            "I know what works: Investing in crime preventionand community police officers who’ll walk the beat, who’ll know the neighborhood, and who can restore trust and safety. \n",
            "\n",
            "So let’s not abandon our streets. Or choose between safety and equal justice.\n",
            "----------------------------------------------------------------------------------------------------\n",
            "Document 13:\n",
            "\n",
            "Joshua is here with us tonight. Yesterday was his birthday. Happy birthday, buddy.  \n",
            "\n",
            "For Joshua, and for the 200,000 other young people with Type 1 diabetes, let’s cap the cost of insulin at $35 a month so everyone can afford it.  \n",
            "\n",
            "Drug companies will still do very well. And while we’re at it let Medicare negotiate lower prices for prescription drugs, like the VA already does.\n",
            "----------------------------------------------------------------------------------------------------\n",
            "Document 14:\n",
            "\n",
            "That’s what is happening. Ford is investing $11 billion to build electric vehicles, creating 11,000 jobs across the country. \n",
            "\n",
            "GM is making the largest investment in its history—$7 billion to build electric vehicles, creating 4,000 jobs in Michigan. \n",
            "\n",
            "All told, we created 369,000 new manufacturing jobs in America just last year. \n",
            "\n",
            "Powered by people I’ve met like JoJo Burgess, from generations of union steelworkers from Pittsburgh, who’s here with us tonight.\n",
            "----------------------------------------------------------------------------------------------------\n",
            "Document 15:\n",
            "\n",
            "My administration is providing assistance with job training and housing, and now helping lower-income veterans get VA care debt-free.  \n",
            "\n",
            "Our troops in Iraq and Afghanistan faced many dangers. \n",
            "\n",
            "One was stationed at bases and breathing in toxic smoke from “burn pits” that incinerated wastes of war—medical and hazard material, jet fuel, and more. \n",
            "\n",
            "When they came home, many of the world’s fittest and best trained warriors were never the same. \n",
            "\n",
            "Headaches. Numbness. Dizziness.\n",
            "----------------------------------------------------------------------------------------------------\n",
            "Document 16:\n",
            "\n",
            "Danielle says Heath was a fighter to the very end. \n",
            "\n",
            "He didn’t know how to stop fighting, and neither did she. \n",
            "\n",
            "Through her pain she found purpose to demand we do better. \n",
            "\n",
            "Tonight, Danielle—we are. \n",
            "\n",
            "The VA is pioneering new ways of linking toxic exposures to diseases, already helping more veterans get benefits. \n",
            "\n",
            "And tonight, I’m announcing we’re expanding eligibility to veterans suffering from nine respiratory cancers.\n",
            "----------------------------------------------------------------------------------------------------\n",
            "Document 17:\n",
            "\n",
            "Let each of us here tonight in this Chamber send an unmistakable signal to Ukraine and to the world. \n",
            "\n",
            "Please rise if you are able and show that, Yes, we the United States of America stand with the Ukrainian people. \n",
            "\n",
            "Throughout our history we’ve learned this lesson when dictators do not pay a price for their aggression they cause more chaos.   \n",
            "\n",
            "They keep moving.   \n",
            "\n",
            "And the costs and the threats to America and the world keep rising.\n",
            "----------------------------------------------------------------------------------------------------\n",
            "Document 18:\n",
            "\n",
            "He and his Dad both have Type 1 diabetes, which means they need insulin every day. Insulin costs about $10 a vial to make.  \n",
            "\n",
            "But drug companies charge families like Joshua and his Dad up to 30 times more. I spoke with Joshua’s mom. \n",
            "\n",
            "Imagine what it’s like to look at your child who needs insulin and have no idea how you’re going to pay for it.  \n",
            "\n",
            "What it does to your dignity, your ability to look your child in the eye, to be the parent you expect to be.\n",
            "----------------------------------------------------------------------------------------------------\n",
            "Document 19:\n",
            "\n",
            "My plan will not only lower costs to give families a fair shot, it will lower the deficit. \n",
            "\n",
            "The previous Administration not only ballooned the deficit with tax cuts for the very wealthy and corporations, it undermined the watchdogs whose job was to keep pandemic relief funds from being wasted. \n",
            "\n",
            "But in my administration, the watchdogs have been welcomed back. \n",
            "\n",
            "We’re going after the criminals who stole billions in relief money meant for small businesses and millions of Americans.\n",
            "----------------------------------------------------------------------------------------------------\n",
            "Document 20:\n",
            "\n",
            "Smartphones. The Internet. Technology we have yet to invent. \n",
            "\n",
            "But that’s just the beginning. \n",
            "\n",
            "Intel’s CEO, Pat Gelsinger, who is here tonight, told me they are ready to increase their investment from  \n",
            "$20 billion to $100 billion. \n",
            "\n",
            "That would be one of the biggest investments in manufacturing in American history. \n",
            "\n",
            "And all they’re waiting for is for you to pass this bill. \n",
            "\n",
            "So let’s not wait any longer. Send it to my desk. I’ll sign it.  \n",
            "\n",
            "And we will really take off.\n"
          ]
        }
      ]
    },
    {
      "cell_type": "code",
      "source": [
        "#Doing reranking with CohereRerank\n",
        "\n",
        "from langchain.retrievers import ContextualCompressionRetriever\n",
        "from langchain.retrievers.document_compressors import CohereRerank\n",
        "from langchain_community.llms import Cohere\n",
        "\n",
        "llm = Cohere(temperature=0)\n",
        "compressor = CohereRerank()\n",
        "compression_retriever = ContextualCompressionRetriever(\n",
        "    base_compressor=compressor, base_retriever=retriever\n",
        ")\n",
        "\n",
        "compressed_docs = compression_retriever.get_relevant_documents(\n",
        "    \"What did the president say about Ketanji Jackson Brown\"\n",
        ")\n",
        "pretty_print_docs(compressed_docs)"
      ],
      "metadata": {
        "colab": {
          "base_uri": "https://localhost:8080/"
        },
        "id": "sSJdeUbszysg",
        "outputId": "c212bb09-6c89-4527-f5e2-074f7cd93c1b"
      },
      "execution_count": 11,
      "outputs": [
        {
          "output_type": "stream",
          "name": "stdout",
          "text": [
            "Document 1:\n",
            "\n",
            "One of the most serious constitutional responsibilities a President has is nominating someone to serve on the United States Supreme Court. \n",
            "\n",
            "And I did that 4 days ago, when I nominated Circuit Court of Appeals Judge Ketanji Brown Jackson. One of our nation’s top legal minds, who will continue Justice Breyer’s legacy of excellence.\n",
            "----------------------------------------------------------------------------------------------------\n",
            "Document 2:\n",
            "\n",
            "I spoke with their families and told them that we are forever in debt for their sacrifice, and we will carry on their mission to restore the trust and safety every community deserves. \n",
            "\n",
            "I’ve worked on these issues a long time. \n",
            "\n",
            "I know what works: Investing in crime preventionand community police officers who’ll walk the beat, who’ll know the neighborhood, and who can restore trust and safety. \n",
            "\n",
            "So let’s not abandon our streets. Or choose between safety and equal justice.\n",
            "----------------------------------------------------------------------------------------------------\n",
            "Document 3:\n",
            "\n",
            "As I said last year, especially to our younger transgender Americans, I will always have your back as your President, so you can be yourself and reach your God-given potential. \n",
            "\n",
            "While it often appears that we never agree, that isn’t true. I signed 80 bipartisan bills into law last year. From preventing government shutdowns to protecting Asian-Americans from still-too-common hate crimes to reforming military justice.\n"
          ]
        }
      ]
    }
  ]
}